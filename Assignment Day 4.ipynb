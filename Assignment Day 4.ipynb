{
 "cells": [
  {
   "cell_type": "markdown",
   "metadata": {},
   "source": [
    "# Assignment Day 4"
   ]
  },
  {
   "cell_type": "markdown",
   "metadata": {},
   "source": [
    "Q-1: Print the first ArmStrong number in the range of 1042000 to 702648265 and exit the loop as soon\n",
    "as you encounter the first armstrong number.\n",
    "Use while loop"
   ]
  },
  {
   "cell_type": "code",
   "execution_count": 2,
   "metadata": {},
   "outputs": [
    {
     "name": "stdout",
     "output_type": "stream",
     "text": [
      "The first armstrong number is 1741725\n"
     ]
    }
   ],
   "source": [
    "n = 1042000\n",
    "while True:\n",
    "    lst1 = [(int(i))**len(str(n)) for i in str(n)]\n",
    "    if sum(lst1) == n:\n",
    "        print(\"The first armstrong number is %d\" %n)\n",
    "        break\n",
    "    else:\n",
    "        n += 1"
   ]
  },
  {
   "cell_type": "code",
   "execution_count": null,
   "metadata": {},
   "outputs": [],
   "source": []
  }
 ],
 "metadata": {
  "kernelspec": {
   "display_name": "Python 3",
   "language": "python",
   "name": "python3"
  },
  "language_info": {
   "codemirror_mode": {
    "name": "ipython",
    "version": 3
   },
   "file_extension": ".py",
   "mimetype": "text/x-python",
   "name": "python",
   "nbconvert_exporter": "python",
   "pygments_lexer": "ipython3",
   "version": "3.6.11"
  }
 },
 "nbformat": 4,
 "nbformat_minor": 4
}
